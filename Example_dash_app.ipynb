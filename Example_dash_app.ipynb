{
 "cells": [
  {
   "cell_type": "markdown",
   "metadata": {
    "id": "W2ga6wwq6OiE"
   },
   "source": [
    "## Praca z biblioteką dash w Colabie"
   ]
  },
  {
   "cell_type": "markdown",
   "metadata": {
    "id": "nYeuSZs_8plq"
   },
   "source": [
    "### Przygotowanie notatnika"
   ]
  },
  {
   "cell_type": "markdown",
   "metadata": {
    "id": "10Bxeeot6Uxi"
   },
   "source": [
    "Biblioteka *dash* nie jest domyślnie instalowana na maszynach udostępnianych do pracy z notatnikami Colabolatory.\n",
    "\n",
    "Zaczynamy od zainstalowania potrzebnej biblioteki."
   ]
  },
  {
   "cell_type": "code",
   "execution_count": 1,
   "metadata": {
    "id": "FmaZ2sHS2KXi"
   },
   "outputs": [
    {
     "name": "stdout",
     "output_type": "stream",
     "text": [
      "Requirement already satisfied: dash in c:\\users\\moool\\anaconda3\\lib\\site-packages (2.10.0)\n",
      "Requirement already satisfied: dash-html-components==2.0.0 in c:\\users\\moool\\anaconda3\\lib\\site-packages (from dash) (2.0.0)\n",
      "Requirement already satisfied: Werkzeug<=2.2.3 in c:\\users\\moool\\anaconda3\\lib\\site-packages (from dash) (2.0.3)\n",
      "Requirement already satisfied: plotly>=5.0.0 in c:\\users\\moool\\anaconda3\\lib\\site-packages (from dash) (5.9.0)\n",
      "Requirement already satisfied: dash-table==5.0.0 in c:\\users\\moool\\anaconda3\\lib\\site-packages (from dash) (5.0.0)\n",
      "Requirement already satisfied: Flask<=2.2.3,>=1.0.4 in c:\\users\\moool\\anaconda3\\lib\\site-packages (from dash) (1.1.2)\n",
      "Requirement already satisfied: dash-core-components==2.0.0 in c:\\users\\moool\\anaconda3\\lib\\site-packages (from dash) (2.0.0)\n",
      "Requirement already satisfied: click>=5.1 in c:\\users\\moool\\anaconda3\\lib\\site-packages (from Flask<=2.2.3,>=1.0.4->dash) (8.0.4)\n",
      "Requirement already satisfied: itsdangerous>=0.24 in c:\\users\\moool\\anaconda3\\lib\\site-packages (from Flask<=2.2.3,>=1.0.4->dash) (2.0.1)\n",
      "Requirement already satisfied: Jinja2>=2.10.1 in c:\\users\\moool\\anaconda3\\lib\\site-packages (from Flask<=2.2.3,>=1.0.4->dash) (2.11.3)\n",
      "Requirement already satisfied: tenacity>=6.2.0 in c:\\users\\moool\\anaconda3\\lib\\site-packages (from plotly>=5.0.0->dash) (8.0.1)\n",
      "Requirement already satisfied: colorama in c:\\users\\moool\\anaconda3\\lib\\site-packages (from click>=5.1->Flask<=2.2.3,>=1.0.4->dash) (0.4.5)\n",
      "Requirement already satisfied: MarkupSafe>=0.23 in c:\\users\\moool\\anaconda3\\lib\\site-packages (from Jinja2>=2.10.1->Flask<=2.2.3,>=1.0.4->dash) (2.0.1)\n"
     ]
    }
   ],
   "source": [
    "!pip install dash"
   ]
  },
  {
   "cell_type": "markdown",
   "metadata": {
    "id": "jan78cew6zHd"
   },
   "source": [
    "Następnie importujemy biblioteki, które pozwolą nam wyświetlić wizualizację:\n",
    "- *dash*, która służy do stworzenia interaktywnej wizualizacji\n",
    "- *pandas*, w celu pracy z ramką danych\n",
    "- *plotly.express*, aby stworzyć wykres jako część wizualizacji\n",
    "- *threading*, która pozwoli nam jednocześnie uruchomić serwer i wyświetlić wizualizację.\n",
    "\n",
    "Dodatkowo wykorzystujemy klasę *output* z biblioteki *google.colab*, która pozwala na wyświetlenie w notatniku naszej wizualizacji."
   ]
  },
  {
   "cell_type": "code",
   "execution_count": 2,
   "metadata": {
    "id": "timT-qnW2aXg"
   },
   "outputs": [
    {
     "ename": "ModuleNotFoundError",
     "evalue": "No module named 'google'",
     "output_type": "error",
     "traceback": [
      "\u001b[1;31m---------------------------------------------------------------------------\u001b[0m",
      "\u001b[1;31mModuleNotFoundError\u001b[0m                       Traceback (most recent call last)",
      "\u001b[1;32m~\\AppData\\Local\\Temp\\ipykernel_3280\\2224670458.py\u001b[0m in \u001b[0;36m<module>\u001b[1;34m\u001b[0m\n\u001b[0;32m      6\u001b[0m \u001b[1;32mfrom\u001b[0m \u001b[0mdash\u001b[0m \u001b[1;32mimport\u001b[0m \u001b[0mhtml\u001b[0m\u001b[1;33m\u001b[0m\u001b[1;33m\u001b[0m\u001b[0m\n\u001b[0;32m      7\u001b[0m \u001b[1;32mfrom\u001b[0m \u001b[0mdash\u001b[0m\u001b[1;33m.\u001b[0m\u001b[0mdependencies\u001b[0m \u001b[1;32mimport\u001b[0m \u001b[0mInput\u001b[0m\u001b[1;33m,\u001b[0m \u001b[0mOutput\u001b[0m\u001b[1;33m\u001b[0m\u001b[1;33m\u001b[0m\u001b[0m\n\u001b[1;32m----> 8\u001b[1;33m \u001b[1;32mfrom\u001b[0m \u001b[0mgoogle\u001b[0m\u001b[1;33m.\u001b[0m\u001b[0mcolab\u001b[0m \u001b[1;32mimport\u001b[0m \u001b[0moutput\u001b[0m\u001b[1;33m\u001b[0m\u001b[1;33m\u001b[0m\u001b[0m\n\u001b[0m",
      "\u001b[1;31mModuleNotFoundError\u001b[0m: No module named 'google'"
     ]
    }
   ],
   "source": [
    "import dash\n",
    "import pandas as pd\n",
    "import plotly.express as px\n",
    "import threading\n",
    "from dash import dcc\n",
    "from dash import html\n",
    "from dash.dependencies import Input, Output\n",
    "from google.colab import output"
   ]
  },
  {
   "cell_type": "markdown",
   "metadata": {
    "id": "dDUGR24R8tha"
   },
   "source": [
    "### Tworzenie wizualizacji"
   ]
  },
  {
   "cell_type": "markdown",
   "metadata": {
    "id": "J1CYsUcUsCzn"
   },
   "source": [
    "#### Pojedynczy blok kodu"
   ]
  },
  {
   "cell_type": "markdown",
   "metadata": {
    "id": "fGOBeC7B8wOr"
   },
   "source": [
    "Poniższy kod tworzy prostą wizualizację na podstawie wbudowanego zbioru danych dostępnego w *plotly.express*."
   ]
  },
  {
   "cell_type": "code",
   "execution_count": 3,
   "metadata": {
    "id": "mbLKjo7YjV8X"
   },
   "outputs": [],
   "source": [
    "# define the dataset used in vis\n",
    "df = px.data.tips()\n",
    "# provide list of plotly theme names\n",
    "plotly_theme_names = [\n",
    "                      \"plotly\",\n",
    "                      \"plotly_white\",\n",
    "                      \"plotly_dark\",\n",
    "                      \"ggplot2\",\n",
    "                      \"seaborn\",\n",
    "                      \"simple_white\",\n",
    "                      \"none\"\n",
    "                      ]\n",
    "# define HTML font styles\n",
    "font_styles={\"fontFamily\": \"verdana\", \"color\": \"#444\"}\n",
    "# create app\n",
    "app = dash.Dash()\n",
    "# configure app layout\n",
    "app.layout = html.Div(\n",
    "    [\n",
    "    html.H3(\n",
    "        \"Plotly templates review\",\n",
    "        style=font_styles\n",
    "        ),\n",
    "    dcc.Graph(id='graph'),\n",
    "    dcc.Dropdown(\n",
    "        id='template-dropdown',\n",
    "        clearable=False,\n",
    "        value=\"plotly\",\n",
    "        options=plotly_theme_names,\n",
    "        style=font_styles\n",
    "        ),\n",
    "     ]\n",
    ")\n",
    "# Define callback to update graph\n",
    "@app.callback(\n",
    "    Output('graph', 'figure'),\n",
    "    [Input(\"template-dropdown\", \"value\")]\n",
    ")\n",
    "def update_figure(template):\n",
    "    chart = px.scatter(\n",
    "        df,\n",
    "        x=\"total_bill\",\n",
    "        y=\"tip\",\n",
    "        template=template,\n",
    "        color=\"sex\",\n",
    "        size=\"size\",\n",
    "        render_mode=\"webgl\",\n",
    "        title=\"Total bill vs tip amounts\",\n",
    "        labels={\n",
    "            \"tip\": \"tip amount\",\n",
    "            \"total_bill\": \"total bill\",\n",
    "            \"day\": \"transaction day\"\n",
    "        }\n",
    "    )\n",
    "    return chart"
   ]
  },
  {
   "cell_type": "markdown",
   "metadata": {
    "id": "HSrVsTCEsL7f"
   },
   "source": [
    "#### Definiowanie elementów aplikacji"
   ]
  },
  {
   "cell_type": "markdown",
   "metadata": {
    "id": "kOsdEPLkf1UL"
   },
   "source": [
    "Na początku przyjrzyjmy się wykorzystywanemu zbiorowi danych **Tips**, który jest częścią biblioteki *Plotly*."
   ]
  },
  {
   "cell_type": "code",
   "execution_count": 4,
   "metadata": {
    "colab": {
     "base_uri": "https://localhost:8080/",
     "height": 424
    },
    "id": "gxoxLpUrGhSE",
    "outputId": "94cf8a72-2d0e-4201-b164-7eae35f49c1a"
   },
   "outputs": [
    {
     "data": {
      "text/html": [
       "<div>\n",
       "<style scoped>\n",
       "    .dataframe tbody tr th:only-of-type {\n",
       "        vertical-align: middle;\n",
       "    }\n",
       "\n",
       "    .dataframe tbody tr th {\n",
       "        vertical-align: top;\n",
       "    }\n",
       "\n",
       "    .dataframe thead th {\n",
       "        text-align: right;\n",
       "    }\n",
       "</style>\n",
       "<table border=\"1\" class=\"dataframe\">\n",
       "  <thead>\n",
       "    <tr style=\"text-align: right;\">\n",
       "      <th></th>\n",
       "      <th>total_bill</th>\n",
       "      <th>tip</th>\n",
       "      <th>sex</th>\n",
       "      <th>smoker</th>\n",
       "      <th>day</th>\n",
       "      <th>time</th>\n",
       "      <th>size</th>\n",
       "    </tr>\n",
       "  </thead>\n",
       "  <tbody>\n",
       "    <tr>\n",
       "      <th>0</th>\n",
       "      <td>16.99</td>\n",
       "      <td>1.01</td>\n",
       "      <td>Female</td>\n",
       "      <td>No</td>\n",
       "      <td>Sun</td>\n",
       "      <td>Dinner</td>\n",
       "      <td>2</td>\n",
       "    </tr>\n",
       "    <tr>\n",
       "      <th>1</th>\n",
       "      <td>10.34</td>\n",
       "      <td>1.66</td>\n",
       "      <td>Male</td>\n",
       "      <td>No</td>\n",
       "      <td>Sun</td>\n",
       "      <td>Dinner</td>\n",
       "      <td>3</td>\n",
       "    </tr>\n",
       "    <tr>\n",
       "      <th>2</th>\n",
       "      <td>21.01</td>\n",
       "      <td>3.50</td>\n",
       "      <td>Male</td>\n",
       "      <td>No</td>\n",
       "      <td>Sun</td>\n",
       "      <td>Dinner</td>\n",
       "      <td>3</td>\n",
       "    </tr>\n",
       "    <tr>\n",
       "      <th>3</th>\n",
       "      <td>23.68</td>\n",
       "      <td>3.31</td>\n",
       "      <td>Male</td>\n",
       "      <td>No</td>\n",
       "      <td>Sun</td>\n",
       "      <td>Dinner</td>\n",
       "      <td>2</td>\n",
       "    </tr>\n",
       "    <tr>\n",
       "      <th>4</th>\n",
       "      <td>24.59</td>\n",
       "      <td>3.61</td>\n",
       "      <td>Female</td>\n",
       "      <td>No</td>\n",
       "      <td>Sun</td>\n",
       "      <td>Dinner</td>\n",
       "      <td>4</td>\n",
       "    </tr>\n",
       "    <tr>\n",
       "      <th>...</th>\n",
       "      <td>...</td>\n",
       "      <td>...</td>\n",
       "      <td>...</td>\n",
       "      <td>...</td>\n",
       "      <td>...</td>\n",
       "      <td>...</td>\n",
       "      <td>...</td>\n",
       "    </tr>\n",
       "    <tr>\n",
       "      <th>239</th>\n",
       "      <td>29.03</td>\n",
       "      <td>5.92</td>\n",
       "      <td>Male</td>\n",
       "      <td>No</td>\n",
       "      <td>Sat</td>\n",
       "      <td>Dinner</td>\n",
       "      <td>3</td>\n",
       "    </tr>\n",
       "    <tr>\n",
       "      <th>240</th>\n",
       "      <td>27.18</td>\n",
       "      <td>2.00</td>\n",
       "      <td>Female</td>\n",
       "      <td>Yes</td>\n",
       "      <td>Sat</td>\n",
       "      <td>Dinner</td>\n",
       "      <td>2</td>\n",
       "    </tr>\n",
       "    <tr>\n",
       "      <th>241</th>\n",
       "      <td>22.67</td>\n",
       "      <td>2.00</td>\n",
       "      <td>Male</td>\n",
       "      <td>Yes</td>\n",
       "      <td>Sat</td>\n",
       "      <td>Dinner</td>\n",
       "      <td>2</td>\n",
       "    </tr>\n",
       "    <tr>\n",
       "      <th>242</th>\n",
       "      <td>17.82</td>\n",
       "      <td>1.75</td>\n",
       "      <td>Male</td>\n",
       "      <td>No</td>\n",
       "      <td>Sat</td>\n",
       "      <td>Dinner</td>\n",
       "      <td>2</td>\n",
       "    </tr>\n",
       "    <tr>\n",
       "      <th>243</th>\n",
       "      <td>18.78</td>\n",
       "      <td>3.00</td>\n",
       "      <td>Female</td>\n",
       "      <td>No</td>\n",
       "      <td>Thur</td>\n",
       "      <td>Dinner</td>\n",
       "      <td>2</td>\n",
       "    </tr>\n",
       "  </tbody>\n",
       "</table>\n",
       "<p>244 rows × 7 columns</p>\n",
       "</div>"
      ],
      "text/plain": [
       "     total_bill   tip     sex smoker   day    time  size\n",
       "0         16.99  1.01  Female     No   Sun  Dinner     2\n",
       "1         10.34  1.66    Male     No   Sun  Dinner     3\n",
       "2         21.01  3.50    Male     No   Sun  Dinner     3\n",
       "3         23.68  3.31    Male     No   Sun  Dinner     2\n",
       "4         24.59  3.61  Female     No   Sun  Dinner     4\n",
       "..          ...   ...     ...    ...   ...     ...   ...\n",
       "239       29.03  5.92    Male     No   Sat  Dinner     3\n",
       "240       27.18  2.00  Female    Yes   Sat  Dinner     2\n",
       "241       22.67  2.00    Male    Yes   Sat  Dinner     2\n",
       "242       17.82  1.75    Male     No   Sat  Dinner     2\n",
       "243       18.78  3.00  Female     No  Thur  Dinner     2\n",
       "\n",
       "[244 rows x 7 columns]"
      ]
     },
     "execution_count": 4,
     "metadata": {},
     "output_type": "execute_result"
    }
   ],
   "source": [
    "df = px.data.tips()\n",
    "df"
   ]
  },
  {
   "cell_type": "markdown",
   "metadata": {
    "id": "iHQjDaD_gFrB"
   },
   "source": [
    "Do stworzenia aplikacji wykorzystujemy klasę *dash.Dash()*:"
   ]
  },
  {
   "cell_type": "code",
   "execution_count": 5,
   "metadata": {
    "id": "jg6wKWr9gRZk"
   },
   "outputs": [],
   "source": [
    "app = dash.Dash()"
   ]
  },
  {
   "cell_type": "markdown",
   "metadata": {
    "id": "w4rdxa8TgpZ4"
   },
   "source": [
    "Aby zbudować i wyświetlić wizualizację wykorzystujemy znaczniki języka HTML. Sam język HTML służy do budowania stron internetowych, a Dash wykorzystuje znaczniki HTML do tworzenia poszczególnych elementów dashboardu.\n",
    "\n",
    "Poszczególne części aplikacji przechowane są w atrybucie **layout()** klasy **dash.Dash()**. \n",
    "\n",
    "Układ aplikacji tworzymy przez wskazanie w *layout* głównego komponentu, który zawiera wszystkie elementy wizualizacji. W tym celu wykorzystujemy **html.Div()**, który jako jedyny parametr przyjmuje listę elementów wizualizacji."
   ]
  },
  {
   "cell_type": "code",
   "execution_count": 6,
   "metadata": {
    "id": "tXPgwJKCiR1t"
   },
   "outputs": [],
   "source": [
    "list_of_vis_elements = []\n",
    "app.layout = html.Div(list_of_vis_elements)"
   ]
  },
  {
   "cell_type": "markdown",
   "metadata": {
    "id": "j6PESFHQiina"
   },
   "source": [
    "Pierwszym elementem jest tytuł wizualizacji utworzony z wykorzystaniem **html.H3()**. Poza tytułem, wskazujemy tu w jaki sposób ma być sformatowany. Szczegółowo możliwości formatowania tekstu omówimy później."
   ]
  },
  {
   "cell_type": "code",
   "execution_count": 7,
   "metadata": {
    "id": "TNsrrLgJjAKF"
   },
   "outputs": [],
   "source": [
    "vis_title = html.H3(\n",
    "    \"Plotly templates review\",\n",
    "    style={\"fontFamily\": \"verdana\",\"color\": \"#444\"}\n",
    "        )\n",
    "list_of_vis_elements.append(vis_title)"
   ]
  },
  {
   "cell_type": "markdown",
   "metadata": {
    "id": "-sK2GA1njlQA"
   },
   "source": [
    "Następnie wskazujemy, że kolejnym wyświetlonym elementem wizualizacji będzie wykres, którego działanie definiujemy poniżej."
   ]
  },
  {
   "cell_type": "code",
   "execution_count": 8,
   "metadata": {
    "id": "1t9ltmYCj3nv"
   },
   "outputs": [],
   "source": [
    "vis_graph = dcc.Graph(id='graph')\n",
    "list_of_vis_elements.append(vis_graph)"
   ]
  },
  {
   "cell_type": "markdown",
   "metadata": {
    "id": "Q3ZxsMkuky1J"
   },
   "source": [
    "Ostatnim elementem wizualizacji jest lista rozwijalna, która pozwala użytkownikowi wybrać motyw wykorzystywany w konstrukcji wykresu."
   ]
  },
  {
   "cell_type": "code",
   "execution_count": 9,
   "metadata": {
    "id": "CBYYaSo6lJkm"
   },
   "outputs": [],
   "source": [
    "theme_options = [\n",
    "                 \"plotly\",\n",
    "                 \"plotly_white\",\n",
    "                 \"plotly_dark\",\n",
    "                 \"ggplot2\",\n",
    "                 \"seaborn\",\n",
    "                 \"simple_white\",\n",
    "                 \"none\"\n",
    "]\n",
    "vis_dropdown = dcc.Dropdown(\n",
    "    id='template-dropdown',\n",
    "    clearable=False,\n",
    "    value=\"plotly\",\n",
    "    options = theme_options,\n",
    "    style={\"fontFamily\": \"verdana\", \"color\": \"#444\"}\n",
    ")\n",
    "list_of_vis_elements.append(vis_dropdown)"
   ]
  },
  {
   "cell_type": "markdown",
   "metadata": {
    "id": "TvIyRj-VluMW"
   },
   "source": [
    "Następny fragment kodu projektuje interakcję: wskazuje, że zmiana wartości na liście rozwijalnej jest wykorzystana do zmiany parametrów wykresu i definiuje metodę, która tworzy wykres:"
   ]
  },
  {
   "cell_type": "code",
   "execution_count": 10,
   "metadata": {
    "id": "tZqo0_EXltiH"
   },
   "outputs": [],
   "source": [
    "@app.callback(\n",
    "    Output('graph', 'figure'),\n",
    "    [Input(\"template-dropdown\", \"value\")]\n",
    ")\n",
    "def update_figure(template):\n",
    "    chart = px.scatter(\n",
    "        df,\n",
    "        x=\"total_bill\",\n",
    "        y=\"tip\",\n",
    "        template=template,\n",
    "        color=\"sex\",\n",
    "        size=\"size\",\n",
    "        render_mode=\"webgl\",\n",
    "        title=\"Total bill vs tip amounts\",\n",
    "        labels={\n",
    "            \"tip\": \"tip amount\",\n",
    "            \"total_bill\": \"total bill\",\n",
    "            \"day\": \"transaction day\"\n",
    "        }\n",
    "    )\n",
    "    return chart"
   ]
  },
  {
   "cell_type": "markdown",
   "metadata": {
    "id": "88JUU3UV9lPy"
   },
   "source": [
    "### Wyświetlenie wizualizacji"
   ]
  },
  {
   "cell_type": "markdown",
   "metadata": {
    "id": "T7om4tW49rvR"
   },
   "source": [
    "Aby zbudować wizualizację z wykorzystaniem powyższego kodu, potrzebujemy:\n",
    "- **uruchomić serwer**, na którym będzie dostępna - pozwala na to metoda *run_server()* klasy *dash.Dash()*,\n",
    "- **wyświetlić wizualizację** dostępną na serwerze - służy do tego metoda *serve_kernel_port_as_iframe()*.\n",
    "\n",
    "Aby wyświetlić wizualizację bez wyłączania kodu uruchamiającego serwer, wykorzystujemy bibliotekę *threading*.\n"
   ]
  },
  {
   "cell_type": "code",
   "execution_count": 11,
   "metadata": {
    "id": "Mj8cDlQv32hQ"
   },
   "outputs": [
    {
     "name": "stdout",
     "output_type": "stream",
     "text": [
      "Dash is running on http://127.0.0.1:8050/\n",
      "\n",
      " * Serving Flask app \"__main__\" (lazy loading)\n",
      " * Environment: production\n",
      "\u001b[31m   WARNING: This is a development server. Do not use it in a production deployment.\u001b[0m\n"
     ]
    },
    {
     "ename": "NameError",
     "evalue": "name 'output' is not defined",
     "output_type": "error",
     "traceback": [
      "\u001b[1;31m---------------------------------------------------------------------------\u001b[0m",
      "\u001b[1;31mNameError\u001b[0m                                 Traceback (most recent call last)",
      "\u001b[1;32m~\\AppData\\Local\\Temp\\ipykernel_3280\\4003906033.py\u001b[0m in \u001b[0;36m<module>\u001b[1;34m\u001b[0m\n\u001b[0;32m      1\u001b[0m \u001b[0mthread\u001b[0m \u001b[1;33m=\u001b[0m \u001b[0mthreading\u001b[0m\u001b[1;33m.\u001b[0m\u001b[0mThread\u001b[0m\u001b[1;33m(\u001b[0m\u001b[0mtarget\u001b[0m\u001b[1;33m=\u001b[0m\u001b[0mapp\u001b[0m\u001b[1;33m.\u001b[0m\u001b[0mrun_server\u001b[0m\u001b[1;33m)\u001b[0m\u001b[1;33m\u001b[0m\u001b[1;33m\u001b[0m\u001b[0m\n\u001b[0;32m      2\u001b[0m \u001b[0mthread\u001b[0m\u001b[1;33m.\u001b[0m\u001b[0mstart\u001b[0m\u001b[1;33m(\u001b[0m\u001b[1;33m)\u001b[0m\u001b[1;33m\u001b[0m\u001b[1;33m\u001b[0m\u001b[0m\n\u001b[1;32m----> 3\u001b[1;33m \u001b[0moutput\u001b[0m\u001b[1;33m.\u001b[0m\u001b[0mserve_kernel_port_as_iframe\u001b[0m\u001b[1;33m(\u001b[0m\u001b[0mport\u001b[0m\u001b[1;33m=\u001b[0m\u001b[1;36m8050\u001b[0m\u001b[1;33m,\u001b[0m \u001b[0mheight\u001b[0m\u001b[1;33m=\u001b[0m\u001b[1;34m'600'\u001b[0m\u001b[1;33m)\u001b[0m\u001b[1;33m\u001b[0m\u001b[1;33m\u001b[0m\u001b[0m\n\u001b[0m",
      "\u001b[1;31mNameError\u001b[0m: name 'output' is not defined"
     ]
    },
    {
     "name": "stdout",
     "output_type": "stream",
     "text": [
      "\u001b[2m   Use a production WSGI server instead.\u001b[0m\n",
      " * Debug mode: off\n"
     ]
    },
    {
     "name": "stderr",
     "output_type": "stream",
     "text": [
      " * Running on http://127.0.0.1:8050/ (Press CTRL+C to quit)\n",
      "127.0.0.1 - - [18/Jan/2024 11:15:50] \"GET / HTTP/1.1\" 200 -\n",
      "127.0.0.1 - - [18/Jan/2024 11:15:50] \"GET /_dash-component-suites/dash/deps/polyfill@7.v2_10_0m1685092263.12.1.min.js HTTP/1.1\" 200 -\n",
      "127.0.0.1 - - [18/Jan/2024 11:15:50] \"GET /_dash-component-suites/dash/deps/react@16.v2_10_0m1685092263.14.0.min.js HTTP/1.1\" 200 -\n",
      "127.0.0.1 - - [18/Jan/2024 11:15:50] \"GET /_dash-component-suites/dash/deps/react-dom@16.v2_10_0m1685092263.14.0.min.js HTTP/1.1\" 200 -\n",
      "127.0.0.1 - - [18/Jan/2024 11:15:50] \"GET /_dash-component-suites/dash/deps/prop-types@15.v2_10_0m1685092263.8.1.min.js HTTP/1.1\" 200 -\n",
      "127.0.0.1 - - [18/Jan/2024 11:15:50] \"GET /_dash-component-suites/dash/dash-renderer/build/dash_renderer.v2_10_0m1685092262.min.js HTTP/1.1\" 200 -\n",
      "127.0.0.1 - - [18/Jan/2024 11:15:50] \"GET /_dash-component-suites/dash/dcc/dash_core_components-shared.v2_10_0m1685092263.js HTTP/1.1\" 200 -\n",
      "127.0.0.1 - - [18/Jan/2024 11:15:50] \"GET /_dash-component-suites/dash/dcc/dash_core_components.v2_10_0m1685092263.js HTTP/1.1\" 200 -\n",
      "127.0.0.1 - - [18/Jan/2024 11:15:50] \"GET /_dash-component-suites/dash/dash_table/bundle.v5_2_5m1685092262.js HTTP/1.1\" 200 -\n",
      "127.0.0.1 - - [18/Jan/2024 11:15:50] \"GET /_dash-component-suites/dash/html/dash_html_components.v2_0_12m1685092263.min.js HTTP/1.1\" 200 -\n",
      "127.0.0.1 - - [18/Jan/2024 11:15:51] \"GET /_dash-layout HTTP/1.1\" 200 -\n",
      "127.0.0.1 - - [18/Jan/2024 11:15:51] \"GET /_dash-dependencies HTTP/1.1\" 200 -\n",
      "127.0.0.1 - - [18/Jan/2024 11:15:51] \"GET /_favicon.ico?v=2.10.0 HTTP/1.1\" 200 -\n",
      "127.0.0.1 - - [18/Jan/2024 11:15:51] \"GET /_dash-component-suites/dash/dcc/async-graph.js HTTP/1.1\" 200 -\n",
      "127.0.0.1 - - [18/Jan/2024 11:15:51] \"GET /_dash-component-suites/dash/dcc/async-dropdown.js HTTP/1.1\" 200 -\n",
      "127.0.0.1 - - [18/Jan/2024 11:15:51] \"GET /_dash-component-suites/dash/dcc/async-plotlyjs.js HTTP/1.1\" 200 -\n",
      "127.0.0.1 - - [18/Jan/2024 11:15:53] \"POST /_dash-update-component HTTP/1.1\" 200 -\n"
     ]
    }
   ],
   "source": [
    "thread = threading.Thread(target=app.run_server)\n",
    "thread.start()\n",
    "output.serve_kernel_port_as_iframe(port=8050, height='600')"
   ]
  },
  {
   "cell_type": "code",
   "execution_count": null,
   "metadata": {},
   "outputs": [],
   "source": []
  }
 ],
 "metadata": {
  "colab": {
   "collapsed_sections": [],
   "name": "Dash app.ipynb",
   "provenance": []
  },
  "kernelspec": {
   "display_name": "Python 3 (ipykernel)",
   "language": "python",
   "name": "python3"
  },
  "language_info": {
   "codemirror_mode": {
    "name": "ipython",
    "version": 3
   },
   "file_extension": ".py",
   "mimetype": "text/x-python",
   "name": "python",
   "nbconvert_exporter": "python",
   "pygments_lexer": "ipython3",
   "version": "3.9.13"
  }
 },
 "nbformat": 4,
 "nbformat_minor": 1
}
