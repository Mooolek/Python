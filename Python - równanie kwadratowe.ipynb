{
 "cells": [
  {
   "cell_type": "markdown",
   "metadata": {},
   "source": [
    "# Równanie kwadratowe - python\n"
   ]
  },
  {
   "cell_type": "code",
   "execution_count": 31,
   "metadata": {},
   "outputs": [
    {
     "name": "stdout",
     "output_type": "stream",
     "text": [
      "Podaj a2\n",
      "podaj b2\n",
      "podaj c2\n",
      "a = 2\n",
      "b = 2\n",
      "c = 2\n",
      "delta wynosi -12\n",
      "delta ujemna\n"
     ]
    }
   ],
   "source": [
    "a = input(\"Podaj a: \")\n",
    "b = input(\"podaj b: \")\n",
    "c = input(\"podaj c: \")\n",
    "\n",
    "print (\"a =\", a)\n",
    "print (\"b =\", b)\n",
    "print (\"c =\", c)\n",
    "\n",
    "delta = (int(b)*int(b)) - 4 *(int(a)*int(c))\n",
    "\n",
    "print(\"delta wynosi\", delta)\n",
    "\n",
    "if delta > 0:\n",
    "    pdelta = delta**1/2\n",
    "    \n",
    "    x_1 = (-int(b)-pdelta)/2*int(a)\n",
    "    x_2 = (-int(b)+pdelta)/2*int(a)\n",
    "    print(\"delta dodatnia, dwa pierwiastki\")\n",
    "    print (\"x1 =\", x_1)\n",
    "    print (\"x2 =\", x_2)\n",
    "    \n",
    "elif delta == 0:\n",
    "    x_3 = -int(b)/2*int(a)\n",
    "    print(\"delta wynosi 0, jeden pierwiastek\")\n",
    "    print(\"x3 =\", x_3)\n",
    "    \n",
    "else:\n",
    "    \n",
    "    delta <0\n",
    "    print (\"delta ujemna\")\n",
    "    \n",
    "\n",
    "\n",
    "\n",
    "         "
   ]
  }
 ],
 "metadata": {
  "kernelspec": {
   "display_name": "Python 3 (ipykernel)",
   "language": "python",
   "name": "python3"
  },
  "language_info": {
   "codemirror_mode": {
    "name": "ipython",
    "version": 3
   },
   "file_extension": ".py",
   "mimetype": "text/x-python",
   "name": "python",
   "nbconvert_exporter": "python",
   "pygments_lexer": "ipython3",
   "version": "3.9.13"
  }
 },
 "nbformat": 4,
 "nbformat_minor": 2
}
